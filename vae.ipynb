{
 "cells": [
  {
   "cell_type": "code",
   "execution_count": 109,
   "id": "initial_id",
   "metadata": {
    "collapsed": true,
    "ExecuteTime": {
     "end_time": "2024-12-15T03:15:34.116139Z",
     "start_time": "2024-12-15T03:15:34.000771Z"
    }
   },
   "outputs": [],
   "source": [
    "import os\n",
    "import math\n",
    "import matplotlib as plt\n",
    "from tqdm import trange\n",
    "from PIL import Image\n",
    "from loguru import logger\n",
    "\n",
    "import torch\n",
    "import torch.nn as nn\n",
    "import torchvision\n",
    "from torchvision import transforms\n",
    "from torch.utils.data import DataLoader"
   ]
  },
  {
   "cell_type": "code",
   "outputs": [],
   "source": [
    "train_batch_size = 32\n",
    "test_batch_size = 32\n",
    "epochs = 100\n",
    "input_dim = 784\n",
    "latent_dim = 64\n",
    "output_dim = 784\n",
    "lr = 1e-5\n",
    "eval_num_images = 1\n",
    "save_dir = \"./generate/vae/\"\n",
    "if not os.path.exists(save_dir):\n",
    "    os.makedirs(save_dir)"
   ],
   "metadata": {
    "collapsed": false,
    "ExecuteTime": {
     "end_time": "2024-12-14T10:53:45.313174Z",
     "start_time": "2024-12-14T10:53:45.309931Z"
    }
   },
   "id": "ca9ceae55bae9824",
   "execution_count": 104
  },
  {
   "cell_type": "code",
   "outputs": [],
   "source": [
    "class VAE(nn.Module):\n",
    "    def __init__(self, input_dim, latent_dim, output_dim):\n",
    "        super().__init__()\n",
    "        # encoder\n",
    "        self.encoder_mean = nn.Linear(input_dim, latent_dim)\n",
    "        # 方差必须是非负数，但是MLP的输出有正有负，直接输出方差会导致计算KL损失时出现nan（ln(-1)）\n",
    "        # 因此我们在取对数方差，输出ln(sigma)，ln可正可负，且保证了sigma为非负数\n",
    "        # self.encoder_std = nn.Linear(input_dim, latent_dim)\n",
    "        self.encoder_ln_std = nn.Linear(input_dim, latent_dim)\n",
    "        self.decoder = nn.Linear(latent_dim, output_dim)\n",
    "\n",
    "    def forward(self, x):\n",
    "        mean, ln_std = self.encoder_mean(x), self.encoder_ln_std(x)\n",
    "        epsilon = torch.randn_like(mean)\n",
    "        z = mean + torch.exp(ln_std) * epsilon\n",
    "        x = self.decoder(z)\n",
    "        return x, mean, ln_std\n",
    "\n",
    "    def calculate_loss(self, x):\n",
    "        x, mean, ln_std = self.forward(x)\n",
    "        mse_loss = nn.MSELoss()(logit, feature)\n",
    "        # kl = 0.5 * (mean ^ 2 + std ^ 2 - 2ln(std) - 1)\n",
    "        kl_loss = torch.mean(0.5 * torch.sum(mean ** 2 + torch.exp(ln_std) ** 2 - 2 * ln_std - 1))\n",
    "        loss = mse_loss + kl_loss\n",
    "        return loss"
   ],
   "metadata": {
    "collapsed": false,
    "ExecuteTime": {
     "end_time": "2024-12-15T03:31:42.837977Z",
     "start_time": "2024-12-15T03:31:42.827018Z"
    }
   },
   "id": "3c7edfa3912e770b",
   "execution_count": 114
  },
  {
   "cell_type": "code",
   "outputs": [
    {
     "name": "stdout",
     "output_type": "stream",
     "text": [
      "Train: 60000; Test: 10000)\n"
     ]
    }
   ],
   "source": [
    "# Dataset\n",
    "transform = transforms.ToTensor()\n",
    "fashion_mnist_train = torchvision.datasets.FashionMNIST(root='./data', train=True, download=True, transform=transform)\n",
    "fashion_mnist_test = torchvision.datasets.FashionMNIST(root='./data', train=False, download=True, transform=transform)\n",
    "print(f\"Train: {len(fashion_mnist_train)}; Test: {len(fashion_mnist_test)})\")"
   ],
   "metadata": {
    "collapsed": false,
    "ExecuteTime": {
     "end_time": "2024-12-14T10:53:45.367993Z",
     "start_time": "2024-12-14T10:53:45.319833Z"
    }
   },
   "id": "509496815c2d18d7",
   "execution_count": 106
  },
  {
   "cell_type": "code",
   "outputs": [],
   "source": [
    "# Loader\n",
    "train_loader = DataLoader(fashion_mnist_train, batch_size=train_batch_size, shuffle=True, drop_last=True)\n",
    "test_loader = DataLoader(fashion_mnist_test, batch_size=test_batch_size, shuffle=True, drop_last=True)"
   ],
   "metadata": {
    "collapsed": false,
    "ExecuteTime": {
     "end_time": "2024-12-14T10:53:45.373856Z",
     "start_time": "2024-12-14T10:53:45.369826Z"
    }
   },
   "id": "5e3220ac2cc9ecdc",
   "execution_count": 107
  },
  {
   "cell_type": "code",
   "outputs": [
    {
     "name": "stderr",
     "output_type": "stream",
     "text": [
      "  0%|          | 0/10 [00:00<?, ?it/s]"
     ]
    },
    {
     "name": "stdout",
     "output_type": "stream",
     "text": [
      "Epoch 1, Train Loss: 1.1007\n"
     ]
    },
    {
     "name": "stderr",
     "output_type": "stream",
     "text": [
      " 10%|█         | 1/10 [00:03<00:35,  3.94s/it]"
     ]
    },
    {
     "name": "stdout",
     "output_type": "stream",
     "text": [
      "Epoch 1, Test Loss:  0.5750\n",
      "Epoch 2, Train Loss: 0.4626\n"
     ]
    },
    {
     "name": "stderr",
     "output_type": "stream",
     "text": [
      " 20%|██        | 2/10 [00:07<00:29,  3.66s/it]"
     ]
    },
    {
     "name": "stdout",
     "output_type": "stream",
     "text": [
      "Epoch 2, Test Loss:  0.3760\n",
      "Epoch 3, Train Loss: 0.3191\n"
     ]
    },
    {
     "name": "stderr",
     "output_type": "stream",
     "text": [
      " 30%|███       | 3/10 [00:10<00:24,  3.54s/it]"
     ]
    },
    {
     "name": "stdout",
     "output_type": "stream",
     "text": [
      "Epoch 3, Test Loss:  0.2729\n",
      "Epoch 4, Train Loss: 0.2386\n"
     ]
    },
    {
     "name": "stderr",
     "output_type": "stream",
     "text": [
      " 40%|████      | 4/10 [00:14<00:20,  3.48s/it]"
     ]
    },
    {
     "name": "stdout",
     "output_type": "stream",
     "text": [
      "Epoch 4, Test Loss:  0.2104\n",
      "Epoch 5, Train Loss: 0.1872\n"
     ]
    },
    {
     "name": "stderr",
     "output_type": "stream",
     "text": [
      " 50%|█████     | 5/10 [00:17<00:17,  3.43s/it]"
     ]
    },
    {
     "name": "stdout",
     "output_type": "stream",
     "text": [
      "Epoch 5, Test Loss:  0.1684\n",
      "Epoch 6, Train Loss: 0.1514\n"
     ]
    },
    {
     "name": "stderr",
     "output_type": "stream",
     "text": [
      " 60%|██████    | 6/10 [00:20<00:13,  3.44s/it]"
     ]
    },
    {
     "name": "stdout",
     "output_type": "stream",
     "text": [
      "Epoch 6, Test Loss:  0.1379\n",
      "Epoch 7, Train Loss: 0.1249\n"
     ]
    },
    {
     "name": "stderr",
     "output_type": "stream",
     "text": [
      " 70%|███████   | 7/10 [00:24<00:10,  3.47s/it]"
     ]
    },
    {
     "name": "stdout",
     "output_type": "stream",
     "text": [
      "Epoch 7, Test Loss:  0.1150\n",
      "Epoch 8, Train Loss: 0.1046\n"
     ]
    },
    {
     "name": "stderr",
     "output_type": "stream",
     "text": [
      " 80%|████████  | 8/10 [00:27<00:06,  3.46s/it]"
     ]
    },
    {
     "name": "stdout",
     "output_type": "stream",
     "text": [
      "Epoch 8, Test Loss:  0.0971\n",
      "Epoch 9, Train Loss: 0.0886\n"
     ]
    },
    {
     "name": "stderr",
     "output_type": "stream",
     "text": [
      " 90%|█████████ | 9/10 [00:31<00:03,  3.45s/it]"
     ]
    },
    {
     "name": "stdout",
     "output_type": "stream",
     "text": [
      "Epoch 9, Test Loss:  0.0828\n",
      "Epoch 10, Train Loss: 0.0757\n"
     ]
    },
    {
     "name": "stderr",
     "output_type": "stream",
     "text": [
      "100%|██████████| 10/10 [00:34<00:00,  3.46s/it]"
     ]
    },
    {
     "name": "stdout",
     "output_type": "stream",
     "text": [
      "Epoch 10, Test Loss:  0.0710\n"
     ]
    },
    {
     "name": "stderr",
     "output_type": "stream",
     "text": [
      "\n"
     ]
    }
   ],
   "source": [
    "# Create VAE\n",
    "model = VAE(input_dim, latent_dim, output_dim)\n",
    "optim = torch.optim.AdamW(model.parameters(), lr=lr)\n",
    "# Train\n",
    "for epoch in trange(epochs):\n",
    "    train_loss = 0.0\n",
    "    test_loss = 0.0\n",
    "    # train\n",
    "    model.train()\n",
    "    for idx, (feature, _) in enumerate(train_loader):\n",
    "        optim.zero_grad()\n",
    "        feature = feature.reshape(train_batch_size, -1)\n",
    "        # loss\n",
    "        loss = model.calculate_loss(feature)\n",
    "        if torch.isnan(loss).any():\n",
    "            logger.error(\"Loss is NaN.\")\n",
    "        loss.backward()\n",
    "        optim.step()\n",
    "        train_loss += loss.item()\n",
    "    # 打印每个 epoch 的平均损失\n",
    "    avg_loss = train_loss / len(train_loader.dataset)\n",
    "    print(f\"Epoch {epoch + 1}, Train Loss: {avg_loss:.4f}\")\n",
    "    # evaluation\n",
    "    model.eval()\n",
    "    with torch.no_grad():\n",
    "        for idx, (feature, _) in enumerate(test_loader):\n",
    "            feature = feature.reshape(test_batch_size, -1)\n",
    "            loss = model.calculate_loss(feature)\n",
    "            test_loss += loss.item()\n",
    "        avg_test_loss = test_loss / len(test_loader.dataset)\n",
    "        print(f\"Epoch {epoch + 1}, Test Loss: {avg_test_loss: .4f}\")\n",
    "    # generate image\n",
    "    with torch.no_grad():\n",
    "        z = torch.randn(eval_num_images, latent_dim)\n",
    "        images = model.decoder(z).cpu().reshape(-1, 1, 28, 28)\n",
    "    # save image\n",
    "    for i in range(eval_num_images):\n",
    "        # 获取单张图像，去掉多余的维度\n",
    "        img = images[i, 0].cpu().numpy()\n",
    "        # 将 numpy 数组转换为 PIL 图像\n",
    "        pil_img = Image.fromarray((img * 255).astype('uint8'))  # 转换为 [0, 255] 范围\n",
    "        img_path = os.path.join(save_dir, f\"{epoch}_{i + 1}.png\")\n",
    "        # 保存图像\n",
    "        pil_img.save(img_path)\n"
   ],
   "metadata": {
    "collapsed": false,
    "ExecuteTime": {
     "end_time": "2024-12-15T03:32:20.155394Z",
     "start_time": "2024-12-15T03:31:45.498795Z"
    }
   },
   "id": "7a2dd5949b3b0cc9",
   "execution_count": 115
  },
  {
   "cell_type": "code",
   "outputs": [],
   "source": [],
   "metadata": {
    "collapsed": false
   },
   "id": "91919eb44b05a565"
  }
 ],
 "metadata": {
  "kernelspec": {
   "display_name": "Python 3",
   "language": "python",
   "name": "python3"
  },
  "language_info": {
   "codemirror_mode": {
    "name": "ipython",
    "version": 2
   },
   "file_extension": ".py",
   "mimetype": "text/x-python",
   "name": "python",
   "nbconvert_exporter": "python",
   "pygments_lexer": "ipython2",
   "version": "2.7.6"
  }
 },
 "nbformat": 4,
 "nbformat_minor": 5
}
